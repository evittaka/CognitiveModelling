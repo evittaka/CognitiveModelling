{
 "cells": [
  {
   "cell_type": "code",
   "execution_count": 4,
   "metadata": {},
   "outputs": [
    {
     "ename": "ModuleNotFoundError",
     "evalue": "No module named 'skimage'",
     "output_type": "error",
     "traceback": [
      "\u001b[1;31m---------------------------------------------------------------------------\u001b[0m",
      "\u001b[1;31mModuleNotFoundError\u001b[0m                       Traceback (most recent call last)",
      "Cell \u001b[1;32mIn[4], line 2\u001b[0m\n\u001b[0;32m      1\u001b[0m \u001b[38;5;28;01mimport\u001b[39;00m \u001b[38;5;21;01mglob\u001b[39;00m\n\u001b[1;32m----> 2\u001b[0m \u001b[38;5;28;01mfrom\u001b[39;00m \u001b[38;5;21;01mskimage\u001b[39;00m \u001b[38;5;28;01mimport\u001b[39;00m io, color\n\u001b[0;32m      3\u001b[0m \u001b[38;5;28;01mimport\u001b[39;00m \u001b[38;5;21;01mnumpy\u001b[39;00m \u001b[38;5;28;01mas\u001b[39;00m \u001b[38;5;21;01mnp\u001b[39;00m\n",
      "\u001b[1;31mModuleNotFoundError\u001b[0m: No module named 'skimage'"
     ]
    }
   ],
   "source": [
    "import glob\n",
    "from skimage import io, color\n",
    "import numpy as np"
   ]
  },
  {
   "cell_type": "code",
   "execution_count": null,
   "metadata": {},
   "outputs": [],
   "source": [
    "dir = ['data0', 'data1', 'data2', 'data3']"
   ]
  },
  {
   "cell_type": "code",
   "execution_count": null,
   "metadata": {},
   "outputs": [],
   "source": [
    "files0 = glob.glob(f\"{dir[0]}/*.jpg\")\n",
    "files1 = glob.glob(f\"{dir[1]}/*.jpg\")\n",
    "files2 = glob.glob(f\"{dir[2]}/*.jpg\")\n",
    "files3 = glob.glob(f\"{dir[3]}/*.jpg\")"
   ]
  },
  {
   "cell_type": "code",
   "execution_count": null,
   "metadata": {},
   "outputs": [],
   "source": [
    "files = [files0, files1, files2, files3]\n",
    "result = np.concatenate(files)"
   ]
  },
  {
   "cell_type": "code",
   "execution_count": null,
   "metadata": {},
   "outputs": [
    {
     "data": {
      "text/plain": [
       "'data0\\\\25_0_2_20170104192902767.jpg.chip.jpg'"
      ]
     },
     "execution_count": 30,
     "metadata": {},
     "output_type": "execute_result"
    }
   ],
   "source": [
    "result[0]"
   ]
  },
  {
   "cell_type": "code",
   "execution_count": null,
   "metadata": {},
   "outputs": [],
   "source": [
    "\n",
    "height, width, channels = io.imread(result[0]).shape\n",
    "data_matrix = np.zeros((len(result), height * width))\n",
    "for i, f in enumerate(result):\n",
    "    image = io.imread(f)\n",
    "    gray_image = color.rgb2gray(image)\n",
    "    data_matrix[i, :] = gray_image.flatten()"
   ]
  },
  {
   "cell_type": "code",
   "execution_count": null,
   "metadata": {},
   "outputs": [],
   "source": [
    "import tkinter as tk\n",
    "from PIL import Image, ImageTk\n",
    "\n",
    "def rate_image():\n",
    "    global current_image_index\n",
    "    rating = rating_scale.get()\n",
    "    print(f\"You rated image {current_image_index + 1}: {rating}\")\n",
    "    # Store the rating (e.g., in a list or dictionary)\n",
    "\n",
    "    current_image_index += 1\n",
    "    if current_image_index < len(result):\n",
    "        display_next_image()\n",
    "    else:\n",
    "        root.destroy()  # Close the window when all images are rated\n",
    "\n",
    "def display_next_image():\n",
    "    global current_image_index\n",
    "    image = Image.open(result[current_image_index])\n",
    "    # image = image.resize((300, 300), Image.ANTIALIAS)  # Resize if needed\n",
    "    photo = ImageTk.PhotoImage(image)\n",
    "    image_label.config(image=photo)\n",
    "    image_label.image = photo\n",
    "\n",
    "root = tk.Tk()\n",
    "root.title(\"Image Rating\")\n",
    "\n",
    "current_image_index = 0\n",
    "\n",
    "image_label = tk.Label(root)\n",
    "image_label.pack()\n",
    "\n",
    "rating_scale = tk.Scale(root, from_=1, to=7, orient=tk.HORIZONTAL)\n",
    "rating_scale.pack()\n",
    "\n",
    "rate_button = tk.Button(root, text=\"Rate\", command=rate_image)\n",
    "rate_button.pack()\n",
    "\n",
    "display_next_image()\n",
    "\n",
    "root.mainloop()"
   ]
  }
 ],
 "metadata": {
  "kernelspec": {
   "display_name": "base",
   "language": "python",
   "name": "python3"
  },
  "language_info": {
   "codemirror_mode": {
    "name": "ipython",
    "version": 3
   },
   "file_extension": ".py",
   "mimetype": "text/x-python",
   "name": "python",
   "nbconvert_exporter": "python",
   "pygments_lexer": "ipython3",
   "version": "3.12.5"
  }
 },
 "nbformat": 4,
 "nbformat_minor": 2
}
