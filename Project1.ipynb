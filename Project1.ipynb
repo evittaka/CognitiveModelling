{
 "cells": [
  {
   "cell_type": "code",
   "execution_count": 26,
   "metadata": {},
   "outputs": [],
   "source": [
    "import glob\n",
    "from skimage import io, color\n",
    "import numpy as np"
   ]
  },
  {
   "cell_type": "code",
   "execution_count": 27,
   "metadata": {},
   "outputs": [],
   "source": [
    "dir = ['data0', 'data1', 'data2', 'data3']"
   ]
  },
  {
   "cell_type": "code",
   "execution_count": 28,
   "metadata": {},
   "outputs": [],
   "source": [
    "files0 = glob.glob(f\"{dir[0]}/*.jpg\")\n",
    "files1 = glob.glob(f\"{dir[1]}/*.jpg\")\n",
    "files2 = glob.glob(f\"{dir[2]}/*.jpg\")\n",
    "files3 = glob.glob(f\"{dir[3]}/*.jpg\")"
   ]
  },
  {
   "cell_type": "code",
   "execution_count": 29,
   "metadata": {},
   "outputs": [],
   "source": [
    "files = [files0, files1, files2, files3]\n",
    "result = np.concatenate(files)"
   ]
  },
  {
   "cell_type": "code",
   "execution_count": 30,
   "metadata": {},
   "outputs": [
    {
     "data": {
      "text/plain": [
       "'data0\\\\25_0_2_20170104192902767.jpg.chip.jpg'"
      ]
     },
     "execution_count": 30,
     "metadata": {},
     "output_type": "execute_result"
    }
   ],
   "source": [
    "result[0]"
   ]
  },
  {
   "cell_type": "code",
   "execution_count": 32,
   "metadata": {},
   "outputs": [],
   "source": [
    "\n",
    "height, width, channels = io.imread(result[0]).shape\n",
    "data_matrix = np.zeros((len(result), height * width))\n",
    "for i, f in enumerate(result):\n",
    "    image = io.imread(f)\n",
    "    gray_image = color.rgb2gray(image)\n",
    "    data_matrix[i, :] = gray_image.flatten()"
   ]
  },
  {
   "cell_type": "code",
   "execution_count": null,
   "metadata": {},
   "outputs": [],
   "source": []
  }
 ],
 "metadata": {
  "kernelspec": {
   "display_name": "base",
   "language": "python",
   "name": "python3"
  },
  "language_info": {
   "codemirror_mode": {
    "name": "ipython",
    "version": 3
   },
   "file_extension": ".py",
   "mimetype": "text/x-python",
   "name": "python",
   "nbconvert_exporter": "python",
   "pygments_lexer": "ipython3",
   "version": "3.11.5"
  }
 },
 "nbformat": 4,
 "nbformat_minor": 2
}
